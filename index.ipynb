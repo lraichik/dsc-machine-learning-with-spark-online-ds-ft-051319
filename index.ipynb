{
 "cells": [
  {
   "cell_type": "markdown",
   "metadata": {},
   "source": [
    "# Machine Learning with Spark\n",
    "\n",
    "## Introduction\n",
    "\n",
    "You've now explored how to perform operations on Spark RDDs for simple Map-Reduce tasks. Luckily, there are far more advanced use cases for spark, and many of them are found in the ml library, which we are going to explore in this lesson.\n",
    "\n",
    "\n",
    "## Objectives\n",
    "* Describe the use case for Machine Learning with Spark\n",
    "* Load and manipulate data with Spark DataFrames\n",
    "* Train a machine learning model with Spark\n",
    "\n",
    "\n",
    "## A Tale of Two Libraries\n",
    "\n",
    "If you look at the pyspark documentation, you'll notice that there are two different libraries for machine learning, [mllib](https://spark.apache.org/docs/latest/api/python/pyspark.mllib.html) and [ml](https://spark.apache.org/docs/latest/api/python/pyspark.ml.html). These libraries are extremely similar to one another, the only difference being that the mllib library is built upon the RDDs you just practiced using; whereas, the ml library is built on higher level Spark DataFrames, which has methods and attributes similar to pandas. Spark has stated that in the future, it is going to devote more effort to the `ml` library and that `mllib` will become deprecated. It's important to note that these libraries are much younger than pandas and sci-kit learn and there are not as many features present in either.\n",
    "\n",
    "## Spark DataFrames\n",
    "\n",
    "In the previous lessons, you've been introduced to SparkContext as the primary way to connect with a Spark Application. Here, we will be using SparkSession, which is from the [sql](https://spark.apache.org/docs/latest/api/python/pyspark.sql.html) component of pyspark. The SparkSession acts the same way as SparkContext; it a bridge between python and the Spark Application. It's just built on top of the Spark SQL API, a higher-level API than RDDs. In fact, a SparkContext object is spun up around which the SparkSession object is wrapped. Let's go through the process of manipulating some data here. For this example, we're going to be using the [Forest Fire dataset](https://archive.ics.uci.edu/ml/datasets/Forest+Fires) from UCI, which contains data about the area burned by wildfires in the Northeast region of Portugal in relation to numerous other factors.\n",
    "\n",
    "To begin with, let's create a SparkSession so that we can spin up our spark application.\n"
   ]
  },
  {
   "cell_type": "code",
   "execution_count": 1,
   "metadata": {},
   "outputs": [],
   "source": [
    "# importing the necessary libraries\n",
    "from pyspark import SparkContext\n",
    "from pyspark.sql import SparkSession\n",
    "sc = SparkContext('local[*]')\n",
    "spark = SparkSession(sc)"
   ]
  },
  {
   "cell_type": "markdown",
   "metadata": {},
   "source": [
    "An alternate, one liner way to create a SparkSession is below"
   ]
  },
  {
   "cell_type": "code",
   "execution_count": 2,
   "metadata": {},
   "outputs": [],
   "source": [
    "spark = SparkSession.builder.master(\"local\").getOrCreate()"
   ]
  },
  {
   "cell_type": "markdown",
   "metadata": {},
   "source": [
    "Now, we'll load the read in our data into the pyspark DataFrame object."
   ]
  },
  {
   "cell_type": "code",
   "execution_count": 3,
   "metadata": {},
   "outputs": [
    {
     "data": {
      "text/plain": [
       "pyspark.sql.dataframe.DataFrame"
      ]
     },
     "execution_count": 3,
     "metadata": {},
     "output_type": "execute_result"
    }
   ],
   "source": [
    "## reading in pyspark df\n",
    "spark_df = spark.read.csv('./forestfires.csv',header='true',inferSchema='true')\n",
    "\n",
    "## observing the datatype of df\n",
    "type(spark_df)"
   ]
  },
  {
   "cell_type": "markdown",
   "metadata": {},
   "source": [
    "You'll notice that some of the methods are extremely similar or the same as those found within Pandas."
   ]
  },
  {
   "cell_type": "code",
   "execution_count": 49,
   "metadata": {},
   "outputs": [
    {
     "data": {
      "text/plain": [
       "[Row(X=7, Y=5, month='mar', day='fri', FFMC=86.2, DMC=26.2, DC=94.3, ISI=5.1, temp=8.2, RH=51, wind=6.7, rain=0.0, area=0.0),\n",
       " Row(X=7, Y=4, month='oct', day='tue', FFMC=90.6, DMC=35.4, DC=669.1, ISI=6.7, temp=18.0, RH=33, wind=0.9, rain=0.0, area=0.0)]"
      ]
     },
     "execution_count": 49,
     "metadata": {},
     "output_type": "execute_result"
    }
   ],
   "source": [
    "spark_df.head(2)"
   ]
  },
  {
   "cell_type": "code",
   "execution_count": 5,
   "metadata": {},
   "outputs": [
    {
     "data": {
      "text/plain": [
       "['X',\n",
       " 'Y',\n",
       " 'month',\n",
       " 'day',\n",
       " 'FFMC',\n",
       " 'DMC',\n",
       " 'DC',\n",
       " 'ISI',\n",
       " 'temp',\n",
       " 'RH',\n",
       " 'wind',\n",
       " 'rain',\n",
       " 'area']"
      ]
     },
     "execution_count": 5,
     "metadata": {},
     "output_type": "execute_result"
    }
   ],
   "source": [
    "spark_df.columns"
   ]
  },
  {
   "cell_type": "markdown",
   "metadata": {},
   "source": [
    "Selecting multiple columns is the same"
   ]
  },
  {
   "cell_type": "code",
   "execution_count": 7,
   "metadata": {},
   "outputs": [
    {
     "data": {
      "text/plain": [
       "DataFrame[month: string, day: string, rain: double]"
      ]
     },
     "execution_count": 7,
     "metadata": {},
     "output_type": "execute_result"
    }
   ],
   "source": [
    "spark_df[['month','day','rain']]"
   ]
  },
  {
   "cell_type": "markdown",
   "metadata": {},
   "source": [
    "But selecting one column is different. If you want to maintain the methods of a spark DataFrame, you should use the `select` method. If you want to just select the column, you can use the same method you would use in pandas (this is primarily what you would use if you're attempting to create a Boolean mask).\n"
   ]
  },
  {
   "cell_type": "code",
   "execution_count": 50,
   "metadata": {
    "scrolled": true
   },
   "outputs": [
    {
     "data": {
      "text/plain": [
       "DataFrame[rain: double]"
      ]
     },
     "execution_count": 50,
     "metadata": {},
     "output_type": "execute_result"
    }
   ],
   "source": [
    "d = spark_df.select('rain')\n",
    "d"
   ]
  },
  {
   "cell_type": "code",
   "execution_count": 9,
   "metadata": {},
   "outputs": [
    {
     "data": {
      "text/plain": [
       "Column<b'rain'>"
      ]
     },
     "execution_count": 9,
     "metadata": {},
     "output_type": "execute_result"
    }
   ],
   "source": [
    "spark_df['rain']"
   ]
  },
  {
   "cell_type": "markdown",
   "metadata": {},
   "source": [
    "Let's take a look at all of our data types in this dataframe"
   ]
  },
  {
   "cell_type": "code",
   "execution_count": 10,
   "metadata": {},
   "outputs": [
    {
     "data": {
      "text/plain": [
       "[('X', 'int'),\n",
       " ('Y', 'int'),\n",
       " ('month', 'string'),\n",
       " ('day', 'string'),\n",
       " ('FFMC', 'double'),\n",
       " ('DMC', 'double'),\n",
       " ('DC', 'double'),\n",
       " ('ISI', 'double'),\n",
       " ('temp', 'double'),\n",
       " ('RH', 'int'),\n",
       " ('wind', 'double'),\n",
       " ('rain', 'double'),\n",
       " ('area', 'double')]"
      ]
     },
     "execution_count": 10,
     "metadata": {},
     "output_type": "execute_result"
    }
   ],
   "source": [
    "spark_df.dtypes"
   ]
  },
  {
   "cell_type": "markdown",
   "metadata": {},
   "source": [
    "## Aggregations with our DataFrame"
   ]
  },
  {
   "cell_type": "markdown",
   "metadata": {},
   "source": [
    "Let's investigate to see if there is any correlation between what month it is and the area of fire."
   ]
  },
  {
   "cell_type": "code",
   "execution_count": 11,
   "metadata": {},
   "outputs": [
    {
     "data": {
      "text/plain": [
       "DataFrame[month: string, avg(area): double]"
      ]
     },
     "execution_count": 11,
     "metadata": {},
     "output_type": "execute_result"
    }
   ],
   "source": [
    "spark_df_months = spark_df.groupBy('month').agg({'area':'mean'})\n",
    "spark_df_months"
   ]
  },
  {
   "cell_type": "markdown",
   "metadata": {},
   "source": [
    "Notice how the grouped DataFrame is not returned when you call the aggregation method. Remember, this is still Spark! The transformations and actions are kept separate so that it is easier to manage large quantities of data. You can perform the transformation by making a `collect` method call."
   ]
  },
  {
   "cell_type": "code",
   "execution_count": 12,
   "metadata": {},
   "outputs": [
    {
     "data": {
      "text/plain": [
       "[Row(month='jun', avg(area)=5.841176470588234),\n",
       " Row(month='aug', avg(area)=12.489076086956521),\n",
       " Row(month='may', avg(area)=19.24),\n",
       " Row(month='feb', avg(area)=6.275),\n",
       " Row(month='sep', avg(area)=17.942616279069753),\n",
       " Row(month='mar', avg(area)=4.356666666666667),\n",
       " Row(month='oct', avg(area)=6.638),\n",
       " Row(month='jul', avg(area)=14.3696875),\n",
       " Row(month='nov', avg(area)=0.0),\n",
       " Row(month='apr', avg(area)=8.891111111111112),\n",
       " Row(month='dec', avg(area)=13.33),\n",
       " Row(month='jan', avg(area)=0.0)]"
      ]
     },
     "execution_count": 12,
     "metadata": {},
     "output_type": "execute_result"
    }
   ],
   "source": [
    "spark_df_months.collect()"
   ]
  },
  {
   "cell_type": "markdown",
   "metadata": {},
   "source": [
    "As you can see, there seem to be larger area fires during what would be considered the summer months in Portugal. On your own, practice more aggregations and manipulations that you might be able to perform on this dataset. Now, we'll move on to using the machine learning applications of pyspark. "
   ]
  },
  {
   "cell_type": "markdown",
   "metadata": {},
   "source": [
    "## Boolean Masking\n",
    "Boolean masking also works with pyspark DataFrames just like Pandas DataFrames, the only difference being that the `filter` method is used in pyspark. To try this out, let's compare the amount the fire in those areas with absolutely no rain to those areas that had rain."
   ]
  },
  {
   "cell_type": "code",
   "execution_count": 13,
   "metadata": {},
   "outputs": [],
   "source": [
    "no_rain = spark_df.filter(spark_df['rain'] == 0.0)\n",
    "some_rain = spark_df.filter(spark_df['rain'] > 0.0)"
   ]
  },
  {
   "cell_type": "markdown",
   "metadata": {},
   "source": [
    "Now, to perform calculations to find the mean of a column, we'll have to import functions from `pyspark.sql`. As always, to read more about them, check out the [documentation](https://spark.apache.org/docs/latest/api/python/pyspark.sql.html#module-pyspark.sql.functions)."
   ]
  },
  {
   "cell_type": "code",
   "execution_count": 14,
   "metadata": {},
   "outputs": [
    {
     "name": "stdout",
     "output_type": "stream",
     "text": [
      "+------------------+\n",
      "|         avg(area)|\n",
      "+------------------+\n",
      "|13.023693516699408|\n",
      "+------------------+\n",
      "\n",
      "no rain fire area:  None \n",
      "\n",
      "+---------+\n",
      "|avg(area)|\n",
      "+---------+\n",
      "|  1.62375|\n",
      "+---------+\n",
      "\n",
      "some rain fire area:  None \n",
      "\n"
     ]
    }
   ],
   "source": [
    "from pyspark.sql.functions import mean\n",
    "\n",
    "print('no rain fire area: ',no_rain.select(mean('area')).show(),'\\n')\n",
    "\n",
    "print('some rain fire area: ',some_rain.select(mean('area')).show(),'\\n')"
   ]
  },
  {
   "cell_type": "markdown",
   "metadata": {},
   "source": [
    "Yes there's definitely something there! Unsurprisingly, rain plays in a big factor in the spread of wildfire.\n",
    "\n",
    "Let's try and get obtain data from only the summer months in Portugal (June, July, and August). We can also do the same for the winter months in Portugal (December, January, February)."
   ]
  },
  {
   "cell_type": "code",
   "execution_count": 15,
   "metadata": {},
   "outputs": [
    {
     "name": "stdout",
     "output_type": "stream",
     "text": [
      "+------------------+\n",
      "|         avg(area)|\n",
      "+------------------+\n",
      "|12.262317596566525|\n",
      "+------------------+\n",
      "\n",
      "summer months fire area None\n",
      "+-----------------+\n",
      "|        avg(area)|\n",
      "+-----------------+\n",
      "|7.918387096774193|\n",
      "+-----------------+\n",
      "\n",
      "winter months fire areas None\n"
     ]
    }
   ],
   "source": [
    "summer_months = spark_df.filter(spark_df['month'].isin(['jun','jul','aug']))\n",
    "winter_months = spark_df.filter(spark_df['month'].isin(['dec','jan','feb']))\n",
    "\n",
    "print('summer months fire area', summer_months.select(mean('area')).show())\n",
    "print('winter months fire areas', winter_months.select(mean('area')).show())"
   ]
  },
  {
   "cell_type": "markdown",
   "metadata": {},
   "source": [
    "## Machine Learning\n",
    "\n",
    "Now that we've performed some data manipulation and aggregation, lets get to the really cool stuff, machine learning! Pyspark states that they've used sklearn as an inspiration for their implementation of a machine learning library. As a result, many of the methods and functionalities look similar, but there are some crucial distinctions. There are three main concepts found within the ML library:\n",
    "\n",
    "`Transformer`: An algorithm that transforms one pyspark DataFrame into another DataFrame. \n",
    "\n",
    "`Estimator`: An algorithm that can be fit onto a pyspark DataFrame that can then be used as a Transformer. \n",
    "\n",
    "`Pipeline`: A pipeline very similar to an sklearn pipeline that chains together different actions.\n",
    "\n",
    "The reasoning behind this separation of the fitting and transforming step is because spark is lazily evaluated, so the 'fitting' of a model does not actually take place until the Transformation action is called. Let's examine what this actually looks like by performing a regression on the Forest Fire Dataset. To start off with, we'll import the necessary libraries for our tasks."
   ]
  },
  {
   "cell_type": "code",
   "execution_count": 16,
   "metadata": {},
   "outputs": [],
   "source": [
    "from pyspark.ml.regression import RandomForestRegressor\n",
    "from pyspark.ml import feature\n",
    "from pyspark.ml.feature import StringIndexer, VectorAssembler, OneHotEncoderEstimator"
   ]
  },
  {
   "cell_type": "markdown",
   "metadata": {},
   "source": [
    "Looking at our data, one can see that all the categories are numerical except for day and month. We saw some correlation between the month and area burned in a fire, so we will include that in our model. The day of the week, however, is highly unlikely to have any effect on fire, so we will drop it from the DataFrame."
   ]
  },
  {
   "cell_type": "code",
   "execution_count": 17,
   "metadata": {},
   "outputs": [
    {
     "data": {
      "text/plain": [
       "Row(X=7, Y=5, month='mar', FFMC=86.2, DMC=26.2, DC=94.3, ISI=5.1, temp=8.2, RH=51, wind=6.7, rain=0.0, area=0.0)"
      ]
     },
     "execution_count": 17,
     "metadata": {},
     "output_type": "execute_result"
    }
   ],
   "source": [
    "fire_df = spark_df.drop('day')\n",
    "fire_df.head()"
   ]
  },
  {
   "cell_type": "markdown",
   "metadata": {},
   "source": [
    "In order for us to run our model, we need to turn the months variable into a dummy variable. In `ml` this is a 2-step process that first requires turning the categorical variable into a numerical index (`StringIndexer`). Only after the variable is an int can pyspark create dummy variable columns related to each category (`OneHotEncoderEstimator`). You key parameters you when using these `ml` estimators are: inputCol (the column you want to change) and outputCol (where you will store the changed column). Here it is in action"
   ]
  },
  {
   "cell_type": "code",
   "execution_count": 18,
   "metadata": {},
   "outputs": [],
   "source": [
    "si = StringIndexer(inputCol='month',outputCol='month_num')\n",
    "model = si.fit(fire_df)\n",
    "new_df = model.transform(fire_df)"
   ]
  },
  {
   "cell_type": "markdown",
   "metadata": {},
   "source": [
    "Note the small, but critical distinction between sklearn's implementation of a transformer and pyspark's implementation. sklearn is more object oriented and spark is more functionally based programming."
   ]
  },
  {
   "cell_type": "code",
   "execution_count": 19,
   "metadata": {},
   "outputs": [
    {
     "data": {
      "text/plain": [
       "pyspark.ml.feature.StringIndexer"
      ]
     },
     "execution_count": 19,
     "metadata": {},
     "output_type": "execute_result"
    }
   ],
   "source": [
    "## this is an estimator (an untrained transformer)\n",
    "type(si)"
   ]
  },
  {
   "cell_type": "code",
   "execution_count": 20,
   "metadata": {},
   "outputs": [
    {
     "data": {
      "text/plain": [
       "pyspark.ml.feature.StringIndexerModel"
      ]
     },
     "execution_count": 20,
     "metadata": {},
     "output_type": "execute_result"
    }
   ],
   "source": [
    "## this is a transformer (a trained transformer)\n",
    "type(model)"
   ]
  },
  {
   "cell_type": "code",
   "execution_count": 21,
   "metadata": {},
   "outputs": [
    {
     "data": {
      "text/plain": [
       "['aug',\n",
       " 'sep',\n",
       " 'mar',\n",
       " 'jul',\n",
       " 'feb',\n",
       " 'jun',\n",
       " 'oct',\n",
       " 'apr',\n",
       " 'dec',\n",
       " 'jan',\n",
       " 'may',\n",
       " 'nov']"
      ]
     },
     "execution_count": 21,
     "metadata": {},
     "output_type": "execute_result"
    }
   ],
   "source": [
    "model.labels"
   ]
  },
  {
   "cell_type": "code",
   "execution_count": 22,
   "metadata": {},
   "outputs": [
    {
     "data": {
      "text/plain": [
       "[Row(X=7, Y=5, month='mar', FFMC=86.2, DMC=26.2, DC=94.3, ISI=5.1, temp=8.2, RH=51, wind=6.7, rain=0.0, area=0.0, month_num=2.0),\n",
       " Row(X=7, Y=4, month='oct', FFMC=90.6, DMC=35.4, DC=669.1, ISI=6.7, temp=18.0, RH=33, wind=0.9, rain=0.0, area=0.0, month_num=6.0),\n",
       " Row(X=7, Y=4, month='oct', FFMC=90.6, DMC=43.7, DC=686.9, ISI=6.7, temp=14.6, RH=33, wind=1.3, rain=0.0, area=0.0, month_num=6.0),\n",
       " Row(X=8, Y=6, month='mar', FFMC=91.7, DMC=33.3, DC=77.5, ISI=9.0, temp=8.3, RH=97, wind=4.0, rain=0.2, area=0.0, month_num=2.0)]"
      ]
     },
     "execution_count": 22,
     "metadata": {},
     "output_type": "execute_result"
    }
   ],
   "source": [
    "new_df.head(4)"
   ]
  },
  {
   "cell_type": "code",
   "execution_count": 24,
   "metadata": {},
   "outputs": [
    {
     "data": {
      "text/plain": [
       "Row(X=7, Y=5, FFMC=86.2, DMC=26.2, DC=94.3, ISI=5.1, temp=8.2, RH=51, wind=6.7, rain=0.0, area=0.0, month_num=2.0)"
      ]
     },
     "execution_count": 24,
     "metadata": {},
     "output_type": "execute_result"
    }
   ],
   "source": [
    "#\n",
    "new_df = new_df.drop('month')\n",
    "new_df.head()"
   ]
  },
  {
   "cell_type": "markdown",
   "metadata": {},
   "source": [
    "As you can see, we have created a new column called \"month_num\" that represents the month by a number. Now that we have performed this step, we can use Spark's version of OneHotEncoder. Let's make sure we have an accurate representation of the months."
   ]
  },
  {
   "cell_type": "code",
   "execution_count": 25,
   "metadata": {},
   "outputs": [
    {
     "data": {
      "text/plain": [
       "[Row(month_num=8.0),\n",
       " Row(month_num=0.0),\n",
       " Row(month_num=7.0),\n",
       " Row(month_num=1.0),\n",
       " Row(month_num=4.0),\n",
       " Row(month_num=11.0),\n",
       " Row(month_num=3.0),\n",
       " Row(month_num=2.0),\n",
       " Row(month_num=10.0),\n",
       " Row(month_num=6.0),\n",
       " Row(month_num=5.0),\n",
       " Row(month_num=9.0)]"
      ]
     },
     "execution_count": 25,
     "metadata": {},
     "output_type": "execute_result"
    }
   ],
   "source": [
    "new_df.select('month_num').distinct().collect()"
   ]
  },
  {
   "cell_type": "code",
   "execution_count": 26,
   "metadata": {},
   "outputs": [
    {
     "data": {
      "text/plain": [
       "Row(X=7, Y=5, FFMC=86.2, DMC=26.2, DC=94.3, ISI=5.1, temp=8.2, RH=51, wind=6.7, rain=0.0, area=0.0, month_num=2.0, month_vec=SparseVector(11, {2: 1.0}))"
      ]
     },
     "execution_count": 26,
     "metadata": {},
     "output_type": "execute_result"
    }
   ],
   "source": [
    "## fitting and transforming the OneHotEncoder\n",
    "ohe = feature.OneHotEncoderEstimator(inputCols=['month_num'],outputCols=['month_vec'],dropLast=True)\n",
    "one_hot_encoded = ohe.fit(new_df).transform(new_df)\n",
    "one_hot_encoded.head()"
   ]
  },
  {
   "cell_type": "markdown",
   "metadata": {},
   "source": [
    "Great, we now have a OneHotEncoded sparse vector in the month_vec column! Because spark is optimized for big data, sparse vectors are used rather than entirely new columns for dummy variables because it is more space efficient. You can see in this first row of the data frame:  \n",
    "`month_vec=SparseVector(11, {2: 1.0})` this indicates that we have a sparse vector of size 11 (because of the parameter `dropLast = True` in OneHotEncoderEstimator) and this particular datapoint is the 2nd index of our month labels (march, based off the labels in the `model` StringEstimator transformer)  \n",
    "\n",
    "The final requirement for all machine learning models in pyspark is to put all of the features of your model into one Sparse Vector. This is once again for efficiency sake. Here, we are doing that with the `VectorAssembler` estimator."
   ]
  },
  {
   "cell_type": "code",
   "execution_count": 27,
   "metadata": {},
   "outputs": [],
   "source": [
    "features = ['X',\n",
    " 'Y',\n",
    " 'FFMC',\n",
    " 'DMC',\n",
    " 'DC',\n",
    " 'ISI',\n",
    " 'temp',\n",
    " 'RH',\n",
    " 'wind',\n",
    " 'rain',\n",
    " 'month_vec']\n",
    "\n",
    "target = 'area'\n",
    "\n",
    "vector = VectorAssembler(inputCols=features,outputCol='features')\n",
    "vectorized_df = vector.transform(one_hot_encoded)"
   ]
  },
  {
   "cell_type": "code",
   "execution_count": 28,
   "metadata": {},
   "outputs": [
    {
     "data": {
      "text/plain": [
       "Row(X=7, Y=5, FFMC=86.2, DMC=26.2, DC=94.3, ISI=5.1, temp=8.2, RH=51, wind=6.7, rain=0.0, area=0.0, month_num=2.0, month_vec=SparseVector(11, {2: 1.0}), features=SparseVector(21, {0: 7.0, 1: 5.0, 2: 86.2, 3: 26.2, 4: 94.3, 5: 5.1, 6: 8.2, 7: 51.0, 8: 6.7, 12: 1.0}))"
      ]
     },
     "execution_count": 28,
     "metadata": {},
     "output_type": "execute_result"
    }
   ],
   "source": [
    "vectorized_df.head()"
   ]
  },
  {
   "cell_type": "markdown",
   "metadata": {},
   "source": [
    "Great! We now have our data in a format that seems acceptable for the last step. Now it's time for us to actually fit our model to data! Let's try and fit a Random Forest Regression model our data. Although there are still a bunch of other features in the DataFrame, it doesn't matter for the machine learning model API. All that needs to be specified are the names of the features column and the label column. Let's fit use Random Forest Regression to fit the model here."
   ]
  },
  {
   "cell_type": "code",
   "execution_count": 29,
   "metadata": {},
   "outputs": [],
   "source": [
    "## instantiating and fitting the model\n",
    "rf_model = RandomForestRegressor(featuresCol='features',labelCol='area',predictionCol=\"prediction\").fit(vectorized_df)"
   ]
  },
  {
   "cell_type": "code",
   "execution_count": 30,
   "metadata": {},
   "outputs": [
    {
     "data": {
      "text/plain": [
       "SparseVector(21, {0: 0.0848, 1: 0.0554, 2: 0.1084, 3: 0.1294, 4: 0.1109, 5: 0.1019, 6: 0.1712, 7: 0.1127, 8: 0.0834, 9: 0.0, 10: 0.0107, 11: 0.0251, 12: 0.0002, 13: 0.0039, 14: 0.0005, 15: 0.0001, 16: 0.0001, 17: 0.0005, 18: 0.0005, 20: 0.0003})"
      ]
     },
     "execution_count": 30,
     "metadata": {},
     "output_type": "execute_result"
    }
   ],
   "source": [
    "rf_model.featureImportances"
   ]
  },
  {
   "cell_type": "code",
   "execution_count": 31,
   "metadata": {},
   "outputs": [
    {
     "data": {
      "text/plain": [
       "[Row(area=0.0, prediction=7.098637002089352),\n",
       " Row(area=0.0, prediction=5.454377779202217),\n",
       " Row(area=0.0, prediction=5.5430185686759),\n",
       " Row(area=0.0, prediction=5.620584049945361),\n",
       " Row(area=0.0, prediction=5.465251058997987),\n",
       " Row(area=0.0, prediction=5.048785802104265),\n",
       " Row(area=0.0, prediction=5.380523989453969),\n",
       " Row(area=0.0, prediction=4.572609268895375),\n",
       " Row(area=0.0, prediction=6.951132567618663),\n",
       " Row(area=0.0, prediction=4.911562978512597)]"
      ]
     },
     "execution_count": 31,
     "metadata": {},
     "output_type": "execute_result"
    }
   ],
   "source": [
    "## generating predictions\n",
    "predictions = rf_model.transform(vectorized_df).select(\"area\",\"prediction\")\n",
    "predictions.head(10)"
   ]
  },
  {
   "cell_type": "markdown",
   "metadata": {},
   "source": [
    "Now we can evaluate how well the model performed using `RegressionEvaluator`."
   ]
  },
  {
   "cell_type": "code",
   "execution_count": 32,
   "metadata": {},
   "outputs": [],
   "source": [
    "from pyspark.ml.evaluation import RegressionEvaluator\n",
    "evaluator = RegressionEvaluator(predictionCol='prediction', labelCol='area')"
   ]
  },
  {
   "cell_type": "code",
   "execution_count": 33,
   "metadata": {},
   "outputs": [
    {
     "data": {
      "text/plain": [
       "0.6233559125256878"
      ]
     },
     "execution_count": 33,
     "metadata": {},
     "output_type": "execute_result"
    }
   ],
   "source": [
    "## evaluating r^2\n",
    "evaluator.evaluate(predictions,{evaluator.metricName:\"r2\"})"
   ]
  },
  {
   "cell_type": "code",
   "execution_count": 34,
   "metadata": {},
   "outputs": [
    {
     "data": {
      "text/plain": [
       "13.546648070208674"
      ]
     },
     "execution_count": 34,
     "metadata": {},
     "output_type": "execute_result"
    }
   ],
   "source": [
    "## evaluating mean absolute error\n",
    "evaluator.evaluate(predictions,{evaluator.metricName:\"mae\"})"
   ]
  },
  {
   "cell_type": "markdown",
   "metadata": {},
   "source": [
    "## Putting it all in a Pipeline\n",
    "\n",
    "We just performed a whole lot of transformations to our data. Let's take a look at all the estimators we used to create this model:\n",
    "\n",
    "* StringIndexer\n",
    "* OneHotEnconderEstimator\n",
    "* VectorAssembler\n",
    "* RandomForestRegressor\n",
    "\n",
    "Once we've fit our model in the Pipeline, we're then going to want to evaluate it to determine how well it performs. We can do this with:\n",
    "\n",
    "* RegressionEvaluator\n",
    "\n",
    "\n",
    "We can streamline all of these transformations to make it all much more efficient by chaining them together in a pipeline. The Pipeline object expects a list of the estimators prior set to the parameter `stages`."
   ]
  },
  {
   "cell_type": "code",
   "execution_count": 35,
   "metadata": {},
   "outputs": [],
   "source": [
    "# importing relevant libraries\n",
    "from pyspark.ml.tuning import ParamGridBuilder, TrainValidationSplit, CrossValidator\n",
    "from pyspark.ml import Pipeline"
   ]
  },
  {
   "cell_type": "code",
   "execution_count": 36,
   "metadata": {},
   "outputs": [],
   "source": [
    "## instantiating all necessary estimator objects\n",
    "\n",
    "string_indexer = StringIndexer(inputCol='month',outputCol='month_num',handleInvalid='keep')\n",
    "one_hot_encoder = OneHotEncoderEstimator(inputCols=['month_num'],outputCols=['month_vec'],dropLast=True)\n",
    "vector_assember = VectorAssembler(inputCols=features,outputCol='features')\n",
    "random_forest = RandomForestRegressor(featuresCol='features',labelCol='area')\n",
    "stages =  [string_indexer, one_hot_encoder, vector_assember,random_forest]\n",
    "\n",
    "# instantiating the pipeline with all them estimator objects\n",
    "pipeline = Pipeline(stages=stages)"
   ]
  },
  {
   "cell_type": "markdown",
   "metadata": {},
   "source": [
    "### Cross Validation\n",
    "You might have missed a critical step in the Random Forest Regression above; we did not cross validate or perform a train/test split! Now we're going to fix that by performing cross validation and also testing out multiple different combinations of parameters in pyspark's GridSearch equivalent. To begin with, we will create a parameter grid that contains the different parameters we want to use in our model."
   ]
  },
  {
   "cell_type": "code",
   "execution_count": 37,
   "metadata": {},
   "outputs": [],
   "source": [
    "# creating parameter grid\n",
    "\n",
    "params = ParamGridBuilder()\\\n",
    ".addGrid(random_forest.maxDepth, [5,10,15])\\\n",
    ".addGrid(random_forest.numTrees, [20,50,100])\\\n",
    ".build()"
   ]
  },
  {
   "cell_type": "markdown",
   "metadata": {},
   "source": [
    "Let's take a look at the params variable we just built."
   ]
  },
  {
   "cell_type": "code",
   "execution_count": 38,
   "metadata": {},
   "outputs": [
    {
     "name": "stdout",
     "output_type": "stream",
     "text": [
      "total combinations of parameters:  9\n"
     ]
    },
    {
     "data": {
      "text/plain": [
       "{Param(parent='RandomForestRegressor_c5cca05d1c5c', name='maxDepth', doc='Maximum depth of the tree. (>= 0) E.g., depth 0 means 1 leaf node; depth 1 means 1 internal node + 2 leaf nodes.'): 5,\n",
       " Param(parent='RandomForestRegressor_c5cca05d1c5c', name='numTrees', doc='Number of trees to train (>= 1).'): 20}"
      ]
     },
     "execution_count": 38,
     "metadata": {},
     "output_type": "execute_result"
    }
   ],
   "source": [
    "print('total combinations of parameters: ',len(params))\n",
    "\n",
    "params[0]"
   ]
  },
  {
   "cell_type": "markdown",
   "metadata": {},
   "source": [
    "Now it's time to combine all the steps we've created to work in a single line of code with the CrossValidator estimator."
   ]
  },
  {
   "cell_type": "code",
   "execution_count": 39,
   "metadata": {},
   "outputs": [],
   "source": [
    "## instantiating the evaluator by which we will measure our model's performance\n",
    "reg_evaluator = RegressionEvaluator(predictionCol='prediction', labelCol='area',metricName = 'mae')\n",
    "## instantiating crossvalidator estimator\n",
    "cv = CrossValidator(estimator=pipeline, estimatorParamMaps=params,evaluator=reg_evaluator,parallelism=4)"
   ]
  },
  {
   "cell_type": "code",
   "execution_count": 40,
   "metadata": {},
   "outputs": [],
   "source": [
    "## fitting crossvalidator\n",
    "cross_validated_model = cv.fit(fire_df)"
   ]
  },
  {
   "cell_type": "markdown",
   "metadata": {},
   "source": [
    "Now, let's see how well the model performed! Let's take a look at the average performance for each one of our 9 models. It looks like the optimal performance is an MAE around 23. Note that this is worse than our original model, but that's because our original model had substantial data leakage. We didn't do a train-test-split!"
   ]
  },
  {
   "cell_type": "code",
   "execution_count": 41,
   "metadata": {
    "scrolled": true
   },
   "outputs": [
    {
     "data": {
      "text/plain": [
       "[21.237059141632503,\n",
       " 20.19400692208107,\n",
       " 19.673988724928368,\n",
       " 21.7976398169829,\n",
       " 20.975115860109703,\n",
       " 20.366088394481178,\n",
       " 21.802700145503078,\n",
       " 21.012621671588978,\n",
       " 20.42293367519888]"
      ]
     },
     "execution_count": 41,
     "metadata": {},
     "output_type": "execute_result"
    }
   ],
   "source": [
    "cross_validated_model.avgMetrics"
   ]
  },
  {
   "cell_type": "markdown",
   "metadata": {},
   "source": [
    "Now, let's take a look at the optimal parameters of our best performing model. The cross_validated_model variable is now saved as the best performing model from the grid search just performed. Let's look to see how well the predictions performed. As you can see, this dataset has a large number of areas of \"0.0\" burned. Perhaps, it would be better to investigate this problem as a classification task."
   ]
  },
  {
   "cell_type": "code",
   "execution_count": 42,
   "metadata": {},
   "outputs": [
    {
     "name": "stdout",
     "output_type": "stream",
     "text": [
      "+------------------+-------+\n",
      "|        prediction|   area|\n",
      "+------------------+-------+\n",
      "|6.8601494746715055|    0.0|\n",
      "| 5.436320252185742|    0.0|\n",
      "| 5.639487776612462|    0.0|\n",
      "| 6.390917582096529|    0.0|\n",
      "| 6.691292098959188|    0.0|\n",
      "|7.3275226782598475|    0.0|\n",
      "| 14.26401429195986|    0.0|\n",
      "| 7.243615088363198|    0.0|\n",
      "| 8.955327733793021|    0.0|\n",
      "|29.175848072773295|    0.0|\n",
      "| 17.79491484773287|    0.0|\n",
      "| 6.704091425077081|    0.0|\n",
      "| 7.612787416278499|    0.0|\n",
      "|  11.3928972215519|    0.0|\n",
      "| 64.08953640583253|    0.0|\n",
      "| 7.023852124670896|    0.0|\n",
      "| 4.616542345574133|    0.0|\n",
      "| 6.713637336897978|    0.0|\n",
      "| 5.394717798945751|    0.0|\n",
      "| 5.620732548008152|    0.0|\n",
      "| 12.82493716660897|    0.0|\n",
      "| 4.518402276489384|    0.0|\n",
      "| 5.501417908064265|    0.0|\n",
      "|11.390537944589044|    0.0|\n",
      "|  8.60586995269967|    0.0|\n",
      "| 5.962976214628018|    0.0|\n",
      "|  9.09364851990592|    0.0|\n",
      "|11.874671600823229|    0.0|\n",
      "|17.936766206913664|    0.0|\n",
      "|10.370341576643098|    0.0|\n",
      "|  32.7033532706926|    0.0|\n",
      "| 6.378347262896821|    0.0|\n",
      "| 7.360166899982321|    0.0|\n",
      "|5.6600704148361975|    0.0|\n",
      "| 4.702640072855216|    0.0|\n",
      "| 6.758765912443522|    0.0|\n",
      "|   8.2764267276371|    0.0|\n",
      "| 6.199559473580383|    0.0|\n",
      "| 13.74554268786645|    0.0|\n",
      "| 5.043266980331693|    0.0|\n",
      "|18.782728972505435|    0.0|\n",
      "| 4.662242344999255|    0.0|\n",
      "|  5.29003955712048|    0.0|\n",
      "| 6.205562747022952|    0.0|\n",
      "|5.8270883916304115|    0.0|\n",
      "| 55.67686893850765|    0.0|\n",
      "| 7.603478192450447|    0.0|\n",
      "|4.7998479891884624|    0.0|\n",
      "|4.6687738955639695|    0.0|\n",
      "| 6.632955195702916|    0.0|\n",
      "|11.811058427814249|    0.0|\n",
      "| 5.056674820129018|    0.0|\n",
      "| 4.874059825767875|    0.0|\n",
      "| 4.874059825767875|    0.0|\n",
      "| 5.348873819749685|    0.0|\n",
      "|10.040470981817919|    0.0|\n",
      "| 5.627558489282949|    0.0|\n",
      "| 5.400082047042573|    0.0|\n",
      "|  5.85406895670144|    0.0|\n",
      "| 8.772233847068149|    0.0|\n",
      "| 3.824541301789696|    0.0|\n",
      "| 4.387618234422363|    0.0|\n",
      "| 6.202455591512378|    0.0|\n",
      "|3.9717333059495714|    0.0|\n",
      "| 5.376024473827925|    0.0|\n",
      "| 10.38094929384535|    0.0|\n",
      "| 5.328554928612597|    0.0|\n",
      "| 8.512123360313245|    0.0|\n",
      "| 8.759412119056343|    0.0|\n",
      "| 4.149531409415863|    0.0|\n",
      "| 5.069016981766198|    0.0|\n",
      "| 5.699841680174735|    0.0|\n",
      "| 4.510940955679556|    0.0|\n",
      "|  6.25774352608234|    0.0|\n",
      "| 6.303609304950032|    0.0|\n",
      "| 9.923977575876805|    0.0|\n",
      "|10.187697998650345|    0.0|\n",
      "| 7.887978077295196|    0.0|\n",
      "|  4.10849426033904|    0.0|\n",
      "|22.233828623470494|    0.0|\n",
      "|10.671446970640975|    0.0|\n",
      "|13.106646634953698|    0.0|\n",
      "| 6.090652003250849|    0.0|\n",
      "|   9.1569431776401|    0.0|\n",
      "| 6.667992512668851|    0.0|\n",
      "| 19.49777182832217|    0.0|\n",
      "|26.677867921537498|    0.0|\n",
      "|19.441622439277857|    0.0|\n",
      "| 26.15372758563993|    0.0|\n",
      "| 4.426370432842231|    0.0|\n",
      "| 5.882422813302721|    0.0|\n",
      "| 5.836577496829715|    0.0|\n",
      "| 7.777555405075543|    0.0|\n",
      "|14.241282654605378|    0.0|\n",
      "| 8.654460343675593|    0.0|\n",
      "| 4.971510294449239|    0.0|\n",
      "| 5.088462463928973|    0.0|\n",
      "| 4.326637985211365|    0.0|\n",
      "| 4.883412469531958|    0.0|\n",
      "| 6.823110026622852|    0.0|\n",
      "| 6.823110026622852|    0.0|\n",
      "| 4.855014251698044|    0.0|\n",
      "| 4.657197925925283|    0.0|\n",
      "| 32.62912637308393|    0.0|\n",
      "| 4.965461964489092|    0.0|\n",
      "| 5.803730831234013|    0.0|\n",
      "| 5.320657760540713|    0.0|\n",
      "| 4.933991382931659|    0.0|\n",
      "|6.5516163688124935|    0.0|\n",
      "| 5.572124784379737|    0.0|\n",
      "| 5.809844947397696|    0.0|\n",
      "| 4.666554182016882|    0.0|\n",
      "|  6.01408348927595|    0.0|\n",
      "| 4.843116119193702|    0.0|\n",
      "| 5.337323795591336|    0.0|\n",
      "|   5.1114672727365|    0.0|\n",
      "| 4.826998965515773|    0.0|\n",
      "| 4.777119781143346|    0.0|\n",
      "| 4.677149063857333|    0.0|\n",
      "| 5.556228376917808|    0.0|\n",
      "| 5.323669825860065|    0.0|\n",
      "| 5.964193319896164|    0.0|\n",
      "|10.096096578682342|    0.0|\n",
      "| 7.386323654278405|    0.0|\n",
      "| 5.408244549652209|    0.0|\n",
      "| 5.585158618849944|    0.0|\n",
      "| 4.773868992751268|    0.0|\n",
      "|10.924673947636403|    0.0|\n",
      "| 5.480839273868819|    0.0|\n",
      "| 4.838262965381848|    0.0|\n",
      "|  5.06091620795472|    0.0|\n",
      "|  5.04660356579993|    0.0|\n",
      "| 4.755515551792473|    0.0|\n",
      "| 6.966313047399356|    0.0|\n",
      "|4.3370473614012335|    0.0|\n",
      "| 7.397465223809033|    0.0|\n",
      "| 9.439558684416404|    0.0|\n",
      "|  8.29987117236876|    0.0|\n",
      "|14.877603989079665|   0.36|\n",
      "| 15.54610477806406|   0.43|\n",
      "|10.563499130066221|   0.47|\n",
      "|3.7139630083802784|   0.55|\n",
      "| 12.33422881263076|   0.61|\n",
      "| 4.043453709043614|   0.71|\n",
      "|  4.01580706498137|   0.77|\n",
      "|13.402559983412102|    0.9|\n",
      "| 4.913429409642604|   0.95|\n",
      "|12.574456220926061|   0.96|\n",
      "|  5.99870512642994|   1.07|\n",
      "|14.087095936811304|   1.12|\n",
      "|18.678186003895533|   1.19|\n",
      "|17.469111269312187|   1.36|\n",
      "| 7.293966815149071|   1.43|\n",
      "| 5.441591919227265|   1.46|\n",
      "|26.554121905690593|   1.46|\n",
      "| 5.477822157997675|   1.56|\n",
      "|10.230795457892013|   1.61|\n",
      "| 7.163034129096056|   1.63|\n",
      "| 4.393781236793526|   1.64|\n",
      "|  9.09364851990592|   1.69|\n",
      "| 5.526396358582286|   1.75|\n",
      "| 6.129925799401795|    1.9|\n",
      "| 7.157980001347764|   1.94|\n",
      "| 59.01600073747878|   1.95|\n",
      "| 5.994803932957731|   2.01|\n",
      "| 5.461924919191264|   2.14|\n",
      "| 4.311632307120598|   2.29|\n",
      "| 5.638971067463996|   2.51|\n",
      "| 7.788652920234302|   2.53|\n",
      "|  8.00016616677606|   2.55|\n",
      "| 6.384679750200946|   2.57|\n",
      "| 6.166272946016457|   2.69|\n",
      "| 7.992442599183488|   2.74|\n",
      "| 9.962118115679157|   3.07|\n",
      "| 4.381110274924268|    3.5|\n",
      "| 4.494025986041161|   4.53|\n",
      "| 6.415224977700777|   4.61|\n",
      "| 5.215341602748574|   4.69|\n",
      "| 5.953562541008032|   4.88|\n",
      "| 8.236319243455709|   5.23|\n",
      "| 8.456442602949915|   5.33|\n",
      "| 8.035841594502516|   5.44|\n",
      "| 5.637946068083192|   6.38|\n",
      "| 9.006643240902704|   6.83|\n",
      "| 9.386191031144056|   6.96|\n",
      "|11.090482892022075|   7.04|\n",
      "|  8.46804866577756|   7.19|\n",
      "|15.683890048806626|    7.3|\n",
      "| 4.897007013063699|    7.4|\n",
      "| 6.354335388191453|   8.24|\n",
      "|5.8992607561355985|   8.31|\n",
      "| 6.482298101771155|   8.68|\n",
      "| 6.032011778748631|   8.71|\n",
      "| 22.25649237274765|   9.41|\n",
      "| 6.032011778748631|  10.01|\n",
      "| 5.563562229423063|  10.02|\n",
      "| 6.415224977700777|  10.93|\n",
      "|12.737020759219552|  11.06|\n",
      "| 9.809154066963758|  11.24|\n",
      "|  9.57548377980041|  11.32|\n",
      "|14.921525089036056|  11.53|\n",
      "| 5.224556329471457|   12.1|\n",
      "| 7.215742398885497|  13.05|\n",
      "| 9.024792059875224|   13.7|\n",
      "| 5.638546362567061|  13.99|\n",
      "| 6.686062345502669|  14.57|\n",
      "| 7.659406733376041|  15.45|\n",
      "|11.613957080899286|   17.2|\n",
      "| 8.450260231268473|  19.23|\n",
      "| 9.295167341300093|  23.41|\n",
      "| 8.673820242996038|  24.23|\n",
      "|11.846737563467116|   26.0|\n",
      "| 6.533600152822518|  26.13|\n",
      "| 7.570499477441501|  27.35|\n",
      "| 5.682168148045259|  28.66|\n",
      "| 5.682168148045259|  28.66|\n",
      "| 10.02098218243034|  29.48|\n",
      "| 7.405288823600136|  30.32|\n",
      "|14.150276014147616|  31.72|\n",
      "| 16.02773669857123|  31.86|\n",
      "| 7.601575344285084|  32.07|\n",
      "| 8.844401837875376|  35.88|\n",
      "| 6.757418279815065|  36.85|\n",
      "|20.007788946468295|  37.02|\n",
      "| 7.616571202951376|  37.71|\n",
      "|11.621032847459691|  48.55|\n",
      "|11.274441659428234|  49.37|\n",
      "|12.401861288894775|   58.3|\n",
      "|54.070987077931285|   64.1|\n",
      "|17.351295187507866|   71.3|\n",
      "| 43.65229216895554|  88.49|\n",
      "| 48.23603699005876|  95.18|\n",
      "| 16.69773049847222| 103.39|\n",
      "| 46.95970380487633| 105.66|\n",
      "|111.40988532974937| 154.88|\n",
      "| 41.56647671266754| 196.48|\n",
      "| 89.07416747588914| 200.94|\n",
      "| 67.57289504694724| 212.88|\n",
      "| 614.8342888915441|1090.84|\n",
      "|  5.77619542438259|    0.0|\n",
      "| 5.068291722207769|    0.0|\n",
      "| 6.486090045212133|    0.0|\n",
      "| 6.947585367723791|  10.13|\n",
      "| 6.785026355112418|    0.0|\n",
      "| 8.460497777726468|   2.87|\n",
      "| 9.709151796208698|   0.76|\n",
      "| 8.167657146703203|   0.09|\n",
      "| 4.311404056553571|   0.75|\n",
      "|10.628928674605474|    0.0|\n",
      "| 4.944532828525006|   2.47|\n",
      "| 19.73994181660769|   0.68|\n",
      "| 5.641621701087458|   0.24|\n",
      "| 5.249579675979452|   0.21|\n",
      "| 5.830438890151142|   1.52|\n",
      "|10.175843821111558|  10.34|\n",
      "|11.917951694780903|    0.0|\n",
      "| 6.317793247461452|   8.02|\n",
      "|4.8288325160645975|   0.68|\n",
      "| 4.845809700780311|    0.0|\n",
      "| 6.851405236851476|   1.38|\n",
      "|  5.85008537273692|   8.85|\n",
      "|  5.37203083301795|    3.3|\n",
      "|4.8277450860163444|   4.25|\n",
      "| 7.926948817790658|   1.56|\n",
      "|5.9185687062824694|   6.54|\n",
      "|5.4386743045871855|   0.79|\n",
      "| 5.805621936515472|   0.17|\n",
      "| 5.763804596386174|    0.0|\n",
      "|5.1538147347005285|    0.0|\n",
      "| 5.848975511089004|    4.4|\n",
      "| 4.407361561080209|   0.52|\n",
      "| 8.387683999635152|   9.27|\n",
      "| 6.543663118512958|   3.09|\n",
      "|  8.31043809990353|   8.98|\n",
      "| 10.40213118309386|  11.19|\n",
      "| 6.951818699364565|   5.38|\n",
      "|12.124240225878347|  17.85|\n",
      "|11.343536898485876|  10.73|\n",
      "|12.124240225878347|  22.03|\n",
      "|12.124240225878347|   9.77|\n",
      "| 6.951818699364565|   9.27|\n",
      "|13.031077977634913|  24.77|\n",
      "| 5.792440444852631|    0.0|\n",
      "| 4.747147958811912|    1.1|\n",
      "| 7.848204371947857|  24.24|\n",
      "| 7.427778877382179|    0.0|\n",
      "|12.613449393240309|    0.0|\n",
      "| 4.802152948309952|    0.0|\n",
      "|  4.50714807180692|    0.0|\n",
      "|5.0056837576926565|    0.0|\n",
      "| 3.917160981082664|    0.0|\n",
      "|10.087322671438788|    8.0|\n",
      "| 7.232497218136914|   2.64|\n",
      "| 37.48505781739101|  86.45|\n",
      "|  7.20209398777636|   6.57|\n",
      "| 7.528137940921031|    0.0|\n",
      "| 5.484350317034572|    0.9|\n",
      "| 6.205213020553432|    0.0|\n",
      "| 12.95219031456482|    0.0|\n",
      "|4.8180508410287235|    0.0|\n",
      "+------------------+-------+\n",
      "only showing top 300 rows\n",
      "\n"
     ]
    }
   ],
   "source": [
    "predictions = cross_validated_model.transform(spark_df)\n",
    "predictions.select('prediction','area').show(300)"
   ]
  },
  {
   "cell_type": "markdown",
   "metadata": {},
   "source": [
    "Now let's go ahead and take a look at the feature importances of our Random Forest model. In order to do this, we need to unroll our pipeline to access the Random Forest Model. Let's start by first checking out the \"bestModel\" attribute of our cross_validated_model."
   ]
  },
  {
   "cell_type": "code",
   "execution_count": 43,
   "metadata": {
    "slideshow": {
     "slide_type": "slide"
    }
   },
   "outputs": [
    {
     "data": {
      "text/plain": [
       "pyspark.ml.pipeline.PipelineModel"
      ]
     },
     "execution_count": 43,
     "metadata": {},
     "output_type": "execute_result"
    }
   ],
   "source": [
    "type(cross_validated_model.bestModel)"
   ]
  },
  {
   "cell_type": "markdown",
   "metadata": {},
   "source": [
    "`ml` is treating the entire pipeline as the best performing model, so we need to go deeper into the pipeline to access the Random Forest model within it. Previously, we put the Random Forest Model as the final \"stage\" in the stages variable list. Let's look at the stages attribute of the bestModel."
   ]
  },
  {
   "cell_type": "code",
   "execution_count": 44,
   "metadata": {},
   "outputs": [
    {
     "data": {
      "text/plain": [
       "[StringIndexer_8d1c6a0981ee,\n",
       " OneHotEncoderEstimator_f112e859d011,\n",
       " VectorAssembler_9e609b2c6b17,\n",
       " RandomForestRegressionModel (uid=RandomForestRegressor_c5cca05d1c5c) with 100 trees]"
      ]
     },
     "execution_count": 44,
     "metadata": {},
     "output_type": "execute_result"
    }
   ],
   "source": [
    "cross_validated_model.bestModel.stages"
   ]
  },
  {
   "cell_type": "markdown",
   "metadata": {},
   "source": [
    "Perfect! There's the RandomForestRegressionModel, represented by the last item in the stages list. Now, we should be able to access all the attributes of the Random Forest Regressor."
   ]
  },
  {
   "cell_type": "code",
   "execution_count": 45,
   "metadata": {},
   "outputs": [],
   "source": [
    "optimal_rf_model = cross_validated_model.bestModel.stages[3]"
   ]
  },
  {
   "cell_type": "code",
   "execution_count": 46,
   "metadata": {},
   "outputs": [
    {
     "data": {
      "text/plain": [
       "SparseVector(22, {0: 0.0819, 1: 0.0726, 2: 0.1367, 3: 0.1344, 4: 0.0783, 5: 0.0578, 6: 0.1069, 7: 0.1361, 8: 0.1375, 9: 0.001, 10: 0.011, 11: 0.0415, 12: 0.0001, 13: 0.0033, 14: 0.0002, 15: 0.0001, 16: 0.0001, 17: 0.0003, 18: 0.0002, 20: 0.0001})"
      ]
     },
     "execution_count": 46,
     "metadata": {},
     "output_type": "execute_result"
    }
   ],
   "source": [
    "optimal_rf_model.featureImportances"
   ]
  },
  {
   "cell_type": "code",
   "execution_count": 47,
   "metadata": {},
   "outputs": [
    {
     "data": {
      "text/plain": [
       "100"
      ]
     },
     "execution_count": 47,
     "metadata": {},
     "output_type": "execute_result"
    }
   ],
   "source": [
    "optimal_rf_model.getNumTrees"
   ]
  },
  {
   "cell_type": "markdown",
   "metadata": {},
   "source": [
    "## Summary\n",
    "\n",
    "In this lesson, you have learned about pyspark's DataFrames, machine learning models, and pipelines. With the use of a pipeline, you can train a huge number of models simultaneously, saving you a substantial amount of time and effort. Up next, you will have a chance to build a pyspark machine learning pipeline of your own with a classification problem!"
   ]
  }
 ],
 "metadata": {
  "kernelspec": {
   "display_name": "Python 3",
   "language": "python",
   "name": "python3"
  },
  "language_info": {
   "codemirror_mode": {
    "name": "ipython",
    "version": 3
   },
   "file_extension": ".py",
   "mimetype": "text/x-python",
   "name": "python",
   "nbconvert_exporter": "python",
   "pygments_lexer": "ipython3",
   "version": "3.7.3"
  }
 },
 "nbformat": 4,
 "nbformat_minor": 2
}
